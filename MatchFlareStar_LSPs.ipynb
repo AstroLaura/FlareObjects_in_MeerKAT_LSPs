{
 "cells": [
  {
   "cell_type": "code",
   "execution_count": null,
   "metadata": {},
   "outputs": [],
   "source": [
    "import numpy as np\n",
    "import glob\n",
    "from astropy.coordinates import SkyCoord\n",
    "from astropy.coordinates import ICRS, Galactic, FK4, FK5\n",
    "from astropy.coordinates import Angle, Latitude, Longitude\n",
    "import astropy.units as un\n",
    "from astropy.time import Time\n",
    "import pandas as pd"
   ]
  },
  {
   "cell_type": "markdown",
   "metadata": {},
   "source": [
    "# Match flare type stars with LSPs\n",
    "\n",
    "In this code we check whether any flare type objects are in the field of view for MeerKAT LSPs.\n",
    "\n",
    "In the final data frame, there is a row for every flare star that is within the primary beam of an LSP. That means that some flare stars are counted twice, if an LSP has overlapping beams and the flare star falls in both. You can easily remove stars that are counted twice by using drop_duplicates, I'll demonstrate this near the bottom of the notebook."
   ]
  },
  {
   "cell_type": "code",
   "execution_count": null,
   "metadata": {},
   "outputs": [],
   "source": [
    "# Read in the flare objects file\n",
    "flarestars = pd.read_csv('FlareTypeStars_Pandas_SimbadNames.csv').drop(['Unnamed: 0'],\n",
    "                                                                       axis=1)\n",
    "# Get the coordinates of each source\n",
    "fstar_coords = SkyCoord(flarestars['ra(deg)'].astype(float)*un.degree,\n",
    "                        flarestars['dec(deg)'].astype(float)*un.degree,\n",
    "                        pm_ra_cosdec=(np.array(flarestars['pmra(arcsec/yr)']).astype(float)*un.mas/un.yr),\n",
    "                        pm_dec=(np.array(flarestars['pmdec(arcsec/yr)']).astype(float)*un.mas/un.yr),\n",
    "                        obstime=Time('2019-01-01T00:00:00.00'))\n",
    "\n",
    "# Read in the LSP catalogue\n",
    "lsps = pd.read_csv('MeerKAT_LSP_AllPointings.csv')\n",
    "# Remove MeerTIME, since these coordinates\n",
    "# are educated guesses, and the integration\n",
    "# time per pointing is very short\n",
    "lsps_nomeertime = lsps[lsps['LSP'] != 'pulsars']\n",
    "# Get the LSP coordinates\n",
    "lsp_coords = SkyCoord(lsps_nomeertime['RA(deg)'].astype(float)*un.degree,\n",
    "                      lsps_nomeertime['DEC(deg)'].astype(float)*un.degree,\n",
    "                      obstime=Time('2019-01-01T00:00:00.00'))"
   ]
  },
  {
   "cell_type": "code",
   "execution_count": null,
   "metadata": {},
   "outputs": [],
   "source": [
    "# Set up the columns for your final\n",
    "# data frame by combining the flare star\n",
    "# (FSTAR) and LSP (LSP) file\n",
    "# columns\n",
    "cols = []\n",
    "for col in flarestars.columns:\n",
    "    cols.append('FSTAR '+col)\n",
    "for col in lsps.columns:\n",
    "    if '#' in col:\n",
    "        cols.append('LSP index')\n",
    "    elif 'LSP' in col:\n",
    "        cols.append('LSP')\n",
    "    else:\n",
    "        cols.append('LSP '+col.strip())\n",
    "cols.append('min_sep(deg)')\n",
    "\n",
    "matched_sources = []\n",
    "# For each LSP pointing, check which\n",
    "# stars are within the primary beam\n",
    "# at the centre of the observing band\n",
    "for index, row in lsps_nomeertime.iterrows():\n",
    "    lsp_coord = SkyCoord(row['RA(deg)']*un.degree,\n",
    "                         row['DEC(deg)']*un.degree,\n",
    "                         obstime=Time('2019-01-01T00:00:00.00'))\n",
    "    beam_size = float(row['Beam_FWHM_Diameter(deg)'])\n",
    "    seps = lsp_coord.separation(fstar_coords)\n",
    "    in_beam = np.where(seps.deg<0.5*beam_size)[0]\n",
    "\n",
    "    if len(in_beam)> 0:\n",
    "        for b in in_beam:\n",
    "            source_info = []\n",
    "            for col in flarestars.columns:\n",
    "                fstar_b = flarestars.iloc[b]\n",
    "                source_info.append(str(fstar_b[col]))\n",
    "            for col in lsps.columns:\n",
    "                source_info.append(str(row[col]))\n",
    "            source_info.append(str(seps.deg[b]))\n",
    "            matched_sources.append(source_info)\n",
    "matched_sources = np.array(matched_sources)\n",
    "\n",
    "# Take your matched sources and put\n",
    "# them in a data frame\n",
    "new_table = dict()\n",
    "for c, col in enumerate(cols):\n",
    "    new_table[col] = matched_sources[:, c]\n",
    "fstar_lsps = pd.DataFrame(data=new_table)\n",
    "\n",
    "# Save that data frame\n",
    "fstar_lsps.to_csv('FStar_LSP_Matches.csv', index=False)"
   ]
  },
  {
   "cell_type": "markdown",
   "metadata": {},
   "source": [
    "fstar_lsps is the final data frame with all of the matches. But maybe you want just the unique stars that are in at least one LSP. Then you can use drop_duplicates to get rid of copies of the same star."
   ]
  },
  {
   "cell_type": "code",
   "execution_count": null,
   "metadata": {},
   "outputs": [],
   "source": [
    "unique_fstars = fstar_lsps.drop_duplicates(subset=['FSTAR ra(deg)', 'FSTAR dec(deg)'])"
   ]
  },
  {
   "cell_type": "markdown",
   "metadata": {},
   "source": [
    "Now you can, for example, have a look at just the SIMBAD RS CVns."
   ]
  },
  {
   "cell_type": "code",
   "execution_count": null,
   "metadata": {
    "scrolled": true
   },
   "outputs": [],
   "source": [
    "unique_fstars[unique_fstars['FSTAR Catalogue']=='SimbadRSCVns']"
   ]
  },
  {
   "cell_type": "markdown",
   "metadata": {},
   "source": [
    "Or you could have a look at all the matches for a single LSP, such as THUNDERKAT"
   ]
  },
  {
   "cell_type": "code",
   "execution_count": null,
   "metadata": {
    "scrolled": true
   },
   "outputs": [],
   "source": [
    "unique_fstars[unique_fstars['LSP']=='ThunderKAT']"
   ]
  },
  {
   "cell_type": "code",
   "execution_count": null,
   "metadata": {},
   "outputs": [],
   "source": []
  }
 ],
 "metadata": {
  "kernelspec": {
   "display_name": "Python 3",
   "language": "python",
   "name": "python3"
  },
  "language_info": {
   "codemirror_mode": {
    "name": "ipython",
    "version": 3
   },
   "file_extension": ".py",
   "mimetype": "text/x-python",
   "name": "python",
   "nbconvert_exporter": "python",
   "pygments_lexer": "ipython3",
   "version": "3.6.10"
  }
 },
 "nbformat": 4,
 "nbformat_minor": 4
}
