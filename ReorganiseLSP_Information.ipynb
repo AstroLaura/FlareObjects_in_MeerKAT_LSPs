{
 "cells": [
  {
   "cell_type": "code",
   "execution_count": 1,
   "metadata": {},
   "outputs": [],
   "source": [
    "import numpy as np\n",
    "import astropy as ap\n",
    "import astropy.coordinates as coord\n",
    "import astropy.units as un\n",
    "from astroquery.simbad import Simbad\n",
    "import pandas as pd\n",
    "\n",
    "import warnings\n",
    "warnings.filterwarnings('ignore')"
   ]
  },
  {
   "cell_type": "markdown",
   "metadata": {},
   "source": [
    "## Organise the LSP information\n",
    "\n",
    "Here we read in and reorganise the information about the MeerKAT LSP pointings. We include the RA and DEC of the phase centre of each pointing, the diameter of the primary beam, the source at the phase centre (if there is one), and the name of the LSP."
   ]
  },
  {
   "cell_type": "code",
   "execution_count": 2,
   "metadata": {},
   "outputs": [],
   "source": [
    "def get_primary_beam_size(freq, D):\n",
    "    '''\n",
    "    Calculate the primary beam size\n",
    "\n",
    "    Args:\n",
    "    freq (float): frequency in Hz\n",
    "    D (float): maximum baseline length\n",
    "               in m\n",
    "\n",
    "    Returns:\n",
    "    A float of the primary beam\n",
    "    diammeter in degrees\n",
    "    '''\n",
    "    # First convert the frequency\n",
    "    # to wavelength in m\n",
    "    lamda = 299792458/freq\n",
    "    # Then calculate the primary\n",
    "    # beam diammeter\n",
    "    return np.rad2deg((1.22*lamda)/D)"
   ]
  },
  {
   "cell_type": "markdown",
   "metadata": {},
   "source": [
    "Read in the information for the LSPs: MALS, ThunderKAT, Fornax, LADUMA, MHONGOOSE and MIGHTEE."
   ]
  },
  {
   "cell_type": "code",
   "execution_count": null,
   "metadata": {},
   "outputs": [],
   "source": [
    "catalogue_path = '/raid/driessen/Catalogues/'"
   ]
  },
  {
   "cell_type": "code",
   "execution_count": 3,
   "metadata": {},
   "outputs": [],
   "source": [
    "MALS_raw = np.genfromtxt('{}MALS-Lband-sample.txt'.format(cataloge_path))\n",
    "\n",
    "# Get the RA and DEC from the array\n",
    "ras = MALS_raw[:, :3]\n",
    "decs = MALS_raw[:, 3:6]\n",
    "# Convert the RA and DEC into the\n",
    "# required format for astropy SkyCoord\n",
    "mals_ra = []\n",
    "mals_dec = []\n",
    "for r, ra in enumerate(ras):\n",
    "    mals_ra.append('{0}h{1}m{2}s'.format(int(ra[0]),\n",
    "                               int(ra[1]),\n",
    "                               ra[2]))\n",
    "    mals_dec.append('{0}d{1}m{2}s'.format(int(decs[r][0]),\n",
    "                                int(decs[r][1]),\n",
    "                                decs[r][2]))\n",
    "radec = coord.SkyCoord(mals_ra, mals_dec, frame='icrs')\n",
    "freq = MALS_raw[:, 7]*1e9\n",
    "pb = get_primary_beam_size(freq, 13.5)\n",
    "\n",
    "mals_dict = {'RA(deg)': radec.ra.deg,\n",
    "             'DEC(deg)': radec.dec.deg,\n",
    "             'Freq(Hz)':freq,\n",
    "             'Beam_FWHM_Diameter(deg)': pb}\n",
    "mals_df = pd.DataFrame(data=mals_dict)\n",
    "mals_df['LSP'] = 'MALS'"
   ]
  },
  {
   "cell_type": "code",
   "execution_count": 4,
   "metadata": {},
   "outputs": [],
   "source": [
    "laduma_df = pd.read_csv('{}LADUMA_coordinates.csv'.format(cataloge_path))\n",
    "laduma_df['Freq(Hz)'] = 1.4e9\n",
    "laduma_df['LSP'] = 'LADUMA'\n",
    "laduma_df['Beam_FWHM_Diameter(deg)'] = get_primary_beam_size(1.4e9,\n",
    "                                                             13.5)"
   ]
  },
  {
   "cell_type": "code",
   "execution_count": 5,
   "metadata": {},
   "outputs": [],
   "source": [
    "tkt_df = pd.read_csv('{}ThunderKAT_coordinates.csv'.format(cataloge_path))\n",
    "tkt_df['Freq(Hz)'] = 1.4e9\n",
    "tkt_df['LSP'] = 'ThunderKAT'\n",
    "tkt_df['Beam_FWHM_Diameter(deg)'] = get_primary_beam_size(1.4e9,\n",
    "                                                          13.5)"
   ]
  },
  {
   "cell_type": "code",
   "execution_count": 6,
   "metadata": {},
   "outputs": [],
   "source": [
    "mhon_raw = np.genfromtxt('{}mhongoose_candidates.txt'.format(cataloge_path),\n",
    "                         dtype=str)\n",
    "mhon_coords = coord.SkyCoord(mhon_raw[:, 3], mhon_raw[:, 4], frame='icrs')\n",
    "\n",
    "mhon_dict = {'RA(deg)': mhon_coords.ra.deg,\n",
    "             'DEC(deg)': mhon_coords.dec.deg}\n",
    "mhon_df = pd.DataFrame(data=mhon_dict)\n",
    "mhon_df['Freq(Hz)'] = 1.4e9\n",
    "mhon_df['LSP'] = 'MHONGOOSE'\n",
    "mhon_df['Beam_FWHM_Diameter(deg)'] = get_primary_beam_size(1.4e9,\n",
    "                                                           13.5)"
   ]
  },
  {
   "cell_type": "code",
   "execution_count": 7,
   "metadata": {},
   "outputs": [],
   "source": [
    "fornax_raw = np.genfromtxt(('{}Fornax_mfs_pointingcentres_'\n",
    "                            '2018_radec.txt').format(cataloge_path))\n",
    "fornax_coords = coord.SkyCoord(fornax_raw,\n",
    "                               unit=(un.deg, un.deg))\n",
    "fornax_dict = {'RA(deg)': fornax_coords.ra.deg,\n",
    "               'DEC(deg)': fornax_coords.dec.deg}\n",
    "fornax_df = pd.DataFrame(data=fornax_dict)\n",
    "fornax_df['Freq(Hz)'] = 1.4e9\n",
    "fornax_df['LSP'] = 'Fornax'\n",
    "fornax_df['Beam_FWHM_Diameter(deg)'] = get_primary_beam_size(1.4e9,\n",
    "                                                             13.5)"
   ]
  },
  {
   "cell_type": "code",
   "execution_count": 8,
   "metadata": {},
   "outputs": [],
   "source": [
    "mightee_raw = np.genfromtxt('{}MIGHTEE_pointings.tsv'.format(cataloge_path),\n",
    "                            dtype=str)\n",
    "mightee_info = []\n",
    "for row in mightee_raw:\n",
    "    if row[0] == 'COSMOS':\n",
    "        mightee_info.append([float(row[1]), float(row[2]), 1.4e9])\n",
    "    elif 'CDFS' in row[0]:\n",
    "        mightee_info.append([float(row[1]), float(row[2]), 1.4e9])\n",
    "        mightee_info.append([float(row[1]), float(row[2]), 0.85e9])\n",
    "        mightee_info.append([float(row[1]), float(row[2]), 2.125e9])\n",
    "    else:\n",
    "        mightee_info.append([float(row[1]), float(row[2]), 1.4e9])\n",
    "mightee_info = np.array(mightee_info)\n",
    "\n",
    "mightee_coords = coord.SkyCoord(mightee_info[:, 0].astype(float)*un.deg,\n",
    "                                mightee_info[:, 1].astype(float)*un.deg)\n",
    "\n",
    "freq = mightee_info[:, 2]\n",
    "pb = get_primary_beam_size(freq,\n",
    "                           13.5)\n",
    "\n",
    "mightee_dict = {'RA(deg)': mightee_coords.ra.deg,\n",
    "                'DEC(deg)': mightee_coords.dec.deg,\n",
    "                'Freq(Hz)':freq,\n",
    "                'Beam_FWHM_Diameter(deg)': pb}\n",
    "mightee_df = pd.DataFrame(data=mightee_dict)\n",
    "mightee_df['LSP'] = 'MIGHTEE'"
   ]
  },
  {
   "cell_type": "code",
   "execution_count": 9,
   "metadata": {},
   "outputs": [],
   "source": [
    "# Read in all of the known pulsars as\n",
    "# a proxy for MeerTIME pointing positions\n",
    "meerTime_raw = np.genfromtxt('{}formatted_ATNF_psrs.csv'.format(cataloge_path),\n",
    "                             delimiter=',', dtype=str)\n",
    "\n",
    "meertime_coords = coord.SkyCoord(meerTime_raw[:, 0].astype(float)*un.deg,\n",
    "                                 meerTime_raw[:, 1].astype(float)*un.deg)\n",
    "\n",
    "meertime_dict = {'RA(deg)': meertime_coords.ra.deg,\n",
    "                 'DEC(deg)': meertime_coords.dec.deg}\n",
    "meertime_df = pd.DataFrame(data=meertime_dict)\n",
    "meertime_df['Freq(Hz)'] = 1.4e9\n",
    "meertime_df['LSP'] = 'pulsars'\n",
    "meertime_df['Beam_FWHM_Diameter(deg)'] = get_primary_beam_size(1.4e9,\n",
    "                                                               13.5)"
   ]
  },
  {
   "cell_type": "markdown",
   "metadata": {},
   "source": [
    "Combine the data frames for all of the LSPs"
   ]
  },
  {
   "cell_type": "code",
   "execution_count": 10,
   "metadata": {},
   "outputs": [],
   "source": [
    "dataframes = [mals_df, laduma_df, tkt_df, mhon_df, fornax_df, meertime_df, mightee_df]\n",
    "\n",
    "combined_df = pd.concat(dataframes, join='inner', ignore_index=True)"
   ]
  },
  {
   "cell_type": "markdown",
   "metadata": {},
   "source": [
    "Get the name of the source at the phase centre of each pointing (if there is one). This is just some nice extra information to have."
   ]
  },
  {
   "cell_type": "code",
   "execution_count": 11,
   "metadata": {
    "scrolled": true
   },
   "outputs": [],
   "source": [
    "all_coords = coord.SkyCoord(combined_df['RA(deg)']*un.deg,\n",
    "                            combined_df['DEC(deg)']*un.deg)\n",
    "centre_source = []\n",
    "\n",
    "# Divide the sources up into chunks,\n",
    "# otherwise astroquery will chuck\n",
    "# a hissy fit\n",
    "for s, starts in enumerate(np.arange(0, 4)):\n",
    "    start = starts * 1000\n",
    "    end = start + 1000\n",
    "    coords = all_coords[start:end]\n",
    "\n",
    "    # Use the coordinates to search for nearby\n",
    "    # sources for each source\n",
    "    result_table = Simbad.query_region(coords, radius=2.*un.arcsec)\n",
    "    # Match the results to the sources\n",
    "    try:\n",
    "        result_coords = coord.SkyCoord(list(result_table['RA']),\n",
    "                                       list(result_table['DEC']),\n",
    "                                       unit=(un.hourangle, un.deg))\n",
    "\n",
    "        for c, coo in enumerate(coords):\n",
    "            seps = coo.separation(result_coords)\n",
    "\n",
    "            if np.nanmin(seps.deg) < 2./60./60.:\n",
    "                centre_source.append(result_table[np.nanargmin(seps.deg)]['MAIN_ID'].decode('UTF-8'))\n",
    "            else:\n",
    "                centre_source.append('')\n",
    "    except (TypeError, KeyError) as e:\n",
    "        # Add a space for any source that doesn't\n",
    "        # have any SIMBAD matches\n",
    "        print('No SIMBAD matches within 2 asec: ', start, end)\n",
    "        for c, coo in enumerate(coords):\n",
    "            centre_source.append('')\n",
    "combined_df['PhaseCentreSource'] = centre_source"
   ]
  },
  {
   "cell_type": "markdown",
   "metadata": {},
   "source": [
    "Save the data frame."
   ]
  },
  {
   "cell_type": "code",
   "execution_count": 12,
   "metadata": {},
   "outputs": [],
   "source": [
    "combined_df.to_csv('{}MeerKAT_LSP_AllPointings.csv'.format(cataloge_path),\n",
    "                   index=False)"
   ]
  },
  {
   "cell_type": "code",
   "execution_count": null,
   "metadata": {},
   "outputs": [],
   "source": []
  }
 ],
 "metadata": {
  "kernelspec": {
   "display_name": "Python 3",
   "language": "python",
   "name": "python3"
  },
  "language_info": {
   "codemirror_mode": {
    "name": "ipython",
    "version": 3
   },
   "file_extension": ".py",
   "mimetype": "text/x-python",
   "name": "python",
   "nbconvert_exporter": "python",
   "pygments_lexer": "ipython3",
   "version": "3.6.10"
  }
 },
 "nbformat": 4,
 "nbformat_minor": 4
}
